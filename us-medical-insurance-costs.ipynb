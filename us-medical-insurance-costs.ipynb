{
 "cells": [
  {
   "cell_type": "markdown",
   "metadata": {},
   "source": [
    "# U.S. Medical Insurance Costs"
   ]
  },
  {
   "cell_type": "markdown",
   "metadata": {},
   "source": [
    "## Importing the modules"
   ]
  },
  {
   "cell_type": "code",
   "execution_count": 1,
   "metadata": {},
   "outputs": [],
   "source": [
    "import pandas as pd\n",
    "from numpy import average\n",
    "import csv"
   ]
  },
  {
   "cell_type": "markdown",
   "metadata": {},
   "source": [
    "## Preparing the DataSet"
   ]
  },
  {
   "cell_type": "markdown",
   "metadata": {},
   "source": [
    "#### Creating a list of rows from the dataset"
   ]
  },
  {
   "cell_type": "code",
   "execution_count": 2,
   "metadata": {},
   "outputs": [],
   "source": [
    "dataset = []\n",
    "\n",
    "with open(\"insurance.csv\") as dataset_csv:\n",
    "    dataset_raw = dataset_csv.readlines()\n",
    "for i in dataset_raw:\n",
    "    dataset.append(i.split(\",\"))"
   ]
  },
  {
   "cell_type": "markdown",
   "metadata": {},
   "source": [
    "#### Creating a dictionary from .csv file"
   ]
  },
  {
   "cell_type": "code",
   "execution_count": 3,
   "metadata": {},
   "outputs": [],
   "source": [
    "dataset_dict = []\n",
    "with open(\"insurance.csv\") as insurance_csv:\n",
    "    set_of_values = csv.DictReader(insurance_csv)\n",
    "    for i in set_of_values:\n",
    "        dataset_dict.append(i)"
   ]
  },
  {
   "cell_type": "markdown",
   "metadata": {},
   "source": [
    "#### Creating a DataFrame"
   ]
  },
  {
   "cell_type": "code",
   "execution_count": 4,
   "metadata": {},
   "outputs": [
    {
     "name": "stdout",
     "output_type": "stream",
     "text": [
      "      age     sex     bmi  children smoker     region      charges\n",
      "0      19  female  27.900         0    yes  southwest  16884.92400\n",
      "1      18    male  33.770         1     no  southeast   1725.55230\n",
      "2      28    male  33.000         3     no  southeast   4449.46200\n",
      "3      33    male  22.705         0     no  northwest  21984.47061\n",
      "4      32    male  28.880         0     no  northwest   3866.85520\n",
      "...   ...     ...     ...       ...    ...        ...          ...\n",
      "1333   50    male  30.970         3     no  northwest  10600.54830\n",
      "1334   18  female  31.920         0     no  northeast   2205.98080\n",
      "1335   18  female  36.850         0     no  southeast   1629.83350\n",
      "1336   21  female  25.800         0     no  southwest   2007.94500\n",
      "1337   61  female  29.070         0    yes  northwest  29141.36030\n",
      "\n",
      "[1338 rows x 7 columns]\n"
     ]
    }
   ],
   "source": [
    "df = pd.DataFrame(pd.read_csv(\"insurance.csv\"))\n",
    "print(df)"
   ]
  },
  {
   "cell_type": "markdown",
   "metadata": {},
   "source": [
    "## Finding the average value of insurance charges."
   ]
  },
  {
   "cell_type": "code",
   "execution_count": 5,
   "metadata": {},
   "outputs": [
    {
     "name": "stdout",
     "output_type": "stream",
     "text": [
      "The average insurance cost for provided dataset is:  13244.38\n"
     ]
    }
   ],
   "source": [
    "charges = []\n",
    "for i in dataset:\n",
    "    value = str(i[6])[:-2]\n",
    "    if value != \"charge\":\n",
    "        charges.append(float(value))\n",
    "print(\"The average insurance cost for provided dataset is: \", round(average(charges),2))"
   ]
  },
  {
   "cell_type": "markdown",
   "metadata": {},
   "source": [
    "## Finding the average age of patients."
   ]
  },
  {
   "cell_type": "code",
   "execution_count": 6,
   "metadata": {},
   "outputs": [
    {
     "name": "stdout",
     "output_type": "stream",
     "text": [
      "The average insurance age for provided dataset is:  39\n"
     ]
    }
   ],
   "source": [
    "ages = []\n",
    "for i in dataset:\n",
    "    value = i[0]\n",
    "    if i[0] != \"age\":\n",
    "        ages.append(float(i[0]))\n",
    "print(\"The average insurance age for provided dataset is: \", round(average(ages)))\n"
   ]
  },
  {
   "cell_type": "markdown",
   "metadata": {},
   "source": [
    "## Finding the region with the most of patients"
   ]
  },
  {
   "cell_type": "code",
   "execution_count": 7,
   "metadata": {},
   "outputs": [
    {
     "name": "stdout",
     "output_type": "stream",
     "text": [
      "{'northwest': 325, 'southeast': 364, 'southwest': 325, 'northeast': 324}\n"
     ]
    }
   ],
   "source": [
    "northwest = 0\n",
    "southeast = 0\n",
    "southwest = 0\n",
    "northeast = 0\n",
    "\n",
    "for i in dataset:\n",
    "    if i[5] == \"northwest\":\n",
    "        northwest += 1\n",
    "    elif i[5] == \"southeast\":\n",
    "        southeast += 1\n",
    "    elif i[5] == \"southwest\":\n",
    "        southwest += 1\n",
    "    elif i[5] == \"northeast\":\n",
    "        northeast += 1\n",
    "    else:\n",
    "        pass\n",
    "\n",
    "regions = {\n",
    "    \"northwest\":northwest,\n",
    "    \"southeast\":southeast,\n",
    "    \"southwest\":southwest,\n",
    "    \"northeast\":northeast\n",
    "}\n",
    "\n",
    "print(regions)"
   ]
  },
  {
   "cell_type": "markdown",
   "metadata": {},
   "source": [
    "## Comparison of average insurance costs for smokers and non-smokers"
   ]
  },
  {
   "cell_type": "markdown",
   "metadata": {},
   "source": [
    "#### Pure Python"
   ]
  },
  {
   "cell_type": "code",
   "execution_count": 8,
   "metadata": {},
   "outputs": [
    {
     "name": "stdout",
     "output_type": "stream",
     "text": [
      "Average cost for smokers -  32050\n",
      "Average cost for nonsmokers -  8434\n"
     ]
    }
   ],
   "source": [
    "costs_smokers = 0\n",
    "costs_nonsmokers = 0\n",
    "num_smokers = 0\n",
    "num_nonsmokers = 0\n",
    "\n",
    "for i in dataset_dict:\n",
    "    if i[\"smoker\"] == 'yes':\n",
    "        num_smokers += 1\n",
    "        costs_smokers += float(i[\"charges\"])\n",
    "    elif i[\"smoker\"] == 'no':\n",
    "        num_nonsmokers += 1\n",
    "        costs_nonsmokers += float(i[\"charges\"])\n",
    "    else:\n",
    "        pass\n",
    "\n",
    "print(\"Average cost for smokers - \", round(costs_smokers / num_smokers))\n",
    "print(\"Average cost for nonsmokers - \", round(costs_nonsmokers / num_nonsmokers))"
   ]
  },
  {
   "cell_type": "markdown",
   "metadata": {},
   "source": [
    "#### Using Pandas Aggregate function"
   ]
  },
  {
   "cell_type": "code",
   "execution_count": 9,
   "metadata": {},
   "outputs": [
    {
     "data": {
      "text/html": [
       "<div>\n",
       "<style scoped>\n",
       "    .dataframe tbody tr th:only-of-type {\n",
       "        vertical-align: middle;\n",
       "    }\n",
       "\n",
       "    .dataframe tbody tr th {\n",
       "        vertical-align: top;\n",
       "    }\n",
       "\n",
       "    .dataframe thead tr th {\n",
       "        text-align: left;\n",
       "    }\n",
       "\n",
       "    .dataframe thead tr:last-of-type th {\n",
       "        text-align: right;\n",
       "    }\n",
       "</style>\n",
       "<table border=\"1\" class=\"dataframe\">\n",
       "  <thead>\n",
       "    <tr>\n",
       "      <th></th>\n",
       "      <th>charges</th>\n",
       "    </tr>\n",
       "    <tr>\n",
       "      <th></th>\n",
       "      <th>mean</th>\n",
       "    </tr>\n",
       "    <tr>\n",
       "      <th>smoker</th>\n",
       "      <th></th>\n",
       "    </tr>\n",
       "  </thead>\n",
       "  <tbody>\n",
       "    <tr>\n",
       "      <th>no</th>\n",
       "      <td>8434.27</td>\n",
       "    </tr>\n",
       "    <tr>\n",
       "      <th>yes</th>\n",
       "      <td>32050.23</td>\n",
       "    </tr>\n",
       "  </tbody>\n",
       "</table>\n",
       "</div>"
      ],
      "text/plain": [
       "         charges\n",
       "            mean\n",
       "smoker          \n",
       "no       8434.27\n",
       "yes     32050.23"
      ]
     },
     "execution_count": 9,
     "metadata": {},
     "output_type": "execute_result"
    }
   ],
   "source": [
    "agg_func_for_smoking = {\n",
    "    'charges': ['mean']\n",
    "}\n",
    "df.groupby(['smoker']).agg(agg_func_for_smoking).round(2)"
   ]
  },
  {
   "cell_type": "markdown",
   "metadata": {},
   "source": [
    "## Average BMI"
   ]
  },
  {
   "cell_type": "code",
   "execution_count": 10,
   "metadata": {},
   "outputs": [
    {
     "name": "stdout",
     "output_type": "stream",
     "text": [
      "Average BMI in dataset -  30.66\n"
     ]
    }
   ],
   "source": [
    "print(\"Average BMI in dataset - \",round(df['bmi'].agg('mean'),2))"
   ]
  },
  {
   "cell_type": "markdown",
   "metadata": {},
   "source": [
    "## Average insurance cost"
   ]
  },
  {
   "cell_type": "code",
   "execution_count": 11,
   "metadata": {
    "scrolled": true
   },
   "outputs": [
    {
     "name": "stdout",
     "output_type": "stream",
     "text": [
      "Average insurance cost in dataset -  13270.4$\n"
     ]
    }
   ],
   "source": [
    "print(\"Average insurance cost in dataset - \",str(round(df['charges'].agg('mean'),1))+\"$\")"
   ]
  },
  {
   "cell_type": "markdown",
   "metadata": {},
   "source": [
    "## Age analysis"
   ]
  },
  {
   "cell_type": "code",
   "execution_count": 12,
   "metadata": {},
   "outputs": [
    {
     "name": "stdout",
     "output_type": "stream",
     "text": [
      "Average age: \n",
      " mean    39.0\n",
      "Name: age, dtype: float64 \n",
      "\n",
      "Maximum age: \n",
      " max    64\n",
      "Name: age, dtype: int64 \n",
      "\n",
      "Minimum age: \n",
      " min    18\n",
      "Name: age, dtype: int64 \n",
      "\n"
     ]
    }
   ],
   "source": [
    "agg_func_for_age = {\n",
    "    'age': ['min','max','mean']\n",
    "}\n",
    "print(\"Average age: \\n\",df['age'].agg(['mean']).round(),\"\\n\")\n",
    "print(\"Maximum age: \\n\",df['age'].agg(['max']),\"\\n\")\n",
    "print(\"Minimum age: \\n\",df['age'].agg(['min']),\"\\n\")"
   ]
  },
  {
   "cell_type": "markdown",
   "metadata": {},
   "source": [
    "## Male and female comparison"
   ]
  },
  {
   "cell_type": "code",
   "execution_count": 13,
   "metadata": {},
   "outputs": [
    {
     "data": {
      "text/html": [
       "<div>\n",
       "<style scoped>\n",
       "    .dataframe tbody tr th:only-of-type {\n",
       "        vertical-align: middle;\n",
       "    }\n",
       "\n",
       "    .dataframe tbody tr th {\n",
       "        vertical-align: top;\n",
       "    }\n",
       "\n",
       "    .dataframe thead tr th {\n",
       "        text-align: left;\n",
       "    }\n",
       "\n",
       "    .dataframe thead tr:last-of-type th {\n",
       "        text-align: right;\n",
       "    }\n",
       "</style>\n",
       "<table border=\"1\" class=\"dataframe\">\n",
       "  <thead>\n",
       "    <tr>\n",
       "      <th></th>\n",
       "      <th>bmi</th>\n",
       "      <th>charges</th>\n",
       "      <th>age</th>\n",
       "      <th>sex</th>\n",
       "    </tr>\n",
       "    <tr>\n",
       "      <th></th>\n",
       "      <th>mean</th>\n",
       "      <th>mean</th>\n",
       "      <th>mean</th>\n",
       "      <th>count</th>\n",
       "    </tr>\n",
       "    <tr>\n",
       "      <th>sex</th>\n",
       "      <th></th>\n",
       "      <th></th>\n",
       "      <th></th>\n",
       "      <th></th>\n",
       "    </tr>\n",
       "  </thead>\n",
       "  <tbody>\n",
       "    <tr>\n",
       "      <th>female</th>\n",
       "      <td>30.38</td>\n",
       "      <td>12569.58</td>\n",
       "      <td>39.50</td>\n",
       "      <td>662</td>\n",
       "    </tr>\n",
       "    <tr>\n",
       "      <th>male</th>\n",
       "      <td>30.94</td>\n",
       "      <td>13956.75</td>\n",
       "      <td>38.92</td>\n",
       "      <td>676</td>\n",
       "    </tr>\n",
       "  </tbody>\n",
       "</table>\n",
       "</div>"
      ],
      "text/plain": [
       "          bmi   charges    age   sex\n",
       "         mean      mean   mean count\n",
       "sex                                 \n",
       "female  30.38  12569.58  39.50   662\n",
       "male    30.94  13956.75  38.92   676"
      ]
     },
     "execution_count": 13,
     "metadata": {},
     "output_type": "execute_result"
    }
   ],
   "source": [
    "agg_func_for_sex = {\n",
    "    'bmi': ['mean'],\n",
    "    'charges': ['mean'],\n",
    "    'age': ['mean'],\n",
    "    'sex': ['count']\n",
    "}\n",
    "\n",
    "df.groupby(['sex']).agg(agg_func_for_sex).round(2)"
   ]
  }
 ],
 "metadata": {
  "kernelspec": {
   "display_name": "Python 3",
   "language": "python",
   "name": "python3"
  },
  "language_info": {
   "codemirror_mode": {
    "name": "ipython",
    "version": 3
   },
   "file_extension": ".py",
   "mimetype": "text/x-python",
   "name": "python",
   "nbconvert_exporter": "python",
   "pygments_lexer": "ipython3",
   "version": "3.8.8"
  }
 },
 "nbformat": 4,
 "nbformat_minor": 4
}
